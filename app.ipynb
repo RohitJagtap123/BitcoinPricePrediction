{
  "nbformat": 4,
  "nbformat_minor": 0,
  "metadata": {
    "colab": {
      "provenance": []
    },
    "kernelspec": {
      "name": "python3",
      "display_name": "Python 3"
    },
    "language_info": {
      "name": "python"
    }
  },
  "cells": [
    {
      "cell_type": "code",
      "source": [
        "import streamlit as st\n",
        "import numpy as np\n",
        "import pickle\n",
        "\n",
        "# Load the trained model\n",
        "with open('random_forest_model.pkl', 'rb') as file:\n",
        "    model = pickle.load(file)\n",
        "\n",
        "# Streamlit app title\n",
        "st.title(\"Bitcoin Price Movement Predictor\")\n",
        "st.write(\"Predict whether the Bitcoin closing price will go UP or DOWN based on input data.\")\n",
        "\n",
        "# Sidebar for user inputs\n",
        "st.sidebar.header(\"Input Features\")\n",
        "open_price = st.sidebar.number_input(\"Open Price\", min_value=0.0, step=0.01, format=\"%.2f\")\n",
        "high_price = st.sidebar.number_input(\"High Price\", min_value=0.0, step=0.01, format=\"%.2f\")\n",
        "low_price = st.sidebar.number_input(\"Low Price\", min_value=0.0, step=0.01, format=\"%.2f\")\n",
        "volume = st.sidebar.number_input(\"Volume\", min_value=0.0, step=1.0, format=\"%.2f\")\n",
        "\n",
        "# Predict button\n",
        "if st.sidebar.button(\"Predict\"):\n",
        "    # Prepare input data\n",
        "    input_data = np.array([[open_price, high_price, low_price, volume]])\n",
        "\n",
        "    # Make prediction\n",
        "    prediction = model.predict(input_data)\n",
        "\n",
        "    # Display prediction\n",
        "    st.subheader(\"Prediction Result\")\n",
        "    if prediction[0] == 1:\n",
        "        st.write(\"📈 **The closing price will go UP!**\")\n",
        "    else:\n",
        "        st.write(\"📉 **The closing price will go DOWN!**\")\n"
      ],
      "metadata": {
        "id": "RS7cFsyAY0XJ"
      },
      "execution_count": null,
      "outputs": []
    }
  ]
}